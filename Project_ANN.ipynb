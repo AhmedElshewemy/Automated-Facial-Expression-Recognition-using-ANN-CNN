{
 "cells": [
  {
   "cell_type": "code",
   "execution_count": 1,
   "id": "1c16438b",
   "metadata": {},
   "outputs": [],
   "source": [
    "import numpy as np\n",
    "import os\n",
    "import PIL\n",
    "import PIL.Image\n",
    "import tensorflow as tf\n",
    "import pathlib\n",
    "import matplotlib.pyplot as plt\n",
    "import cv2\n",
    "import imghdr"
   ]
  },
  {
   "cell_type": "code",
   "execution_count": 2,
   "id": "24fb1225",
   "metadata": {},
   "outputs": [],
   "source": [
    "batch_size = 64\n",
    "img_height = 48\n",
    "img_width = 48\n"
   ]
  },
  {
   "cell_type": "code",
   "execution_count": 3,
   "id": "4eccb832",
   "metadata": {},
   "outputs": [
    {
     "name": "stdout",
     "output_type": "stream",
     "text": [
      "Found 28709 files belonging to 7 classes.\n"
     ]
    }
   ],
   "source": [
    "train_ds = tf.keras.utils.image_dataset_from_directory(\n",
    " \"D:/facial_expression/train\",\n",
    "  labels = \"inferred\",\n",
    "  seed=123,\n",
    "  image_size=(img_height, img_width),\n",
    "  batch_size=batch_size,\n",
    "  color_mode='grayscale',\n",
    "  label_mode=\"categorical\")"
   ]
  },
  {
   "cell_type": "code",
   "execution_count": 4,
   "id": "6f1ae7d7",
   "metadata": {},
   "outputs": [
    {
     "name": "stdout",
     "output_type": "stream",
     "text": [
      "Found 7178 files belonging to 7 classes.\n"
     ]
    }
   ],
   "source": [
    "val_ds = tf.keras.utils.image_dataset_from_directory(\n",
    " \"D:/facial_expression/test\",\n",
    "  labels = 'inferred',\n",
    "  label_mode = \"categorical\",\n",
    "  seed=123,\n",
    "  image_size=(img_height, img_width),\n",
    "  batch_size=batch_size,\n",
    "  color_mode='grayscale')"
   ]
  },
  {
   "cell_type": "code",
   "execution_count": 5,
   "id": "b690eb19",
   "metadata": {},
   "outputs": [
    {
     "data": {
      "text/plain": [
       "['angry', 'disgust', 'fear', 'happy', 'neutral', 'sad', 'surprise']"
      ]
     },
     "execution_count": 5,
     "metadata": {},
     "output_type": "execute_result"
    }
   ],
   "source": [
    "class_names = train_ds.class_names\n",
    "class_names\n"
   ]
  },
  {
   "cell_type": "code",
   "execution_count": 6,
   "id": "2c7bad28",
   "metadata": {},
   "outputs": [
    {
     "name": "stdout",
     "output_type": "stream",
     "text": [
      "(64, 48, 48, 1)\n",
      "(64, 7)\n"
     ]
    }
   ],
   "source": [
    "for image_batch, labels_batch in train_ds:\n",
    "    print(image_batch.shape)\n",
    "    print(labels_batch.shape)\n",
    "    break"
   ]
  },
  {
   "cell_type": "code",
   "execution_count": 7,
   "id": "ec4be31d",
   "metadata": {},
   "outputs": [
    {
     "name": "stdout",
     "output_type": "stream",
     "text": [
      "WARNING:tensorflow:From D:\\ANCONDAPYTHON\\lib\\site-packages\\tensorflow\\python\\autograph\\pyct\\static_analysis\\liveness.py:83: Analyzer.lamba_check (from tensorflow.python.autograph.pyct.static_analysis.liveness) is deprecated and will be removed after 2023-09-23.\n",
      "Instructions for updating:\n",
      "Lambda fuctions will be no more assumed to be used in the statement where they are used, or at least in the same block. https://github.com/tensorflow/tensorflow/issues/56089\n"
     ]
    }
   ],
   "source": [
    "train_ds = train_ds.map(lambda x,y: (x/255, y))\n",
    "val_ds = val_ds.map(lambda x,y: (x/255, y))"
   ]
  },
  {
   "cell_type": "code",
   "execution_count": 8,
   "id": "d208edee",
   "metadata": {},
   "outputs": [
    {
     "data": {
      "text/plain": [
       "0.0"
      ]
     },
     "execution_count": 8,
     "metadata": {},
     "output_type": "execute_result"
    }
   ],
   "source": [
    "train_ds.as_numpy_iterator().next()[0].min()"
   ]
  },
  {
   "cell_type": "code",
   "execution_count": 9,
   "id": "8dba3cfd",
   "metadata": {},
   "outputs": [
    {
     "data": {
      "text/plain": [
       "1.0"
      ]
     },
     "execution_count": 9,
     "metadata": {},
     "output_type": "execute_result"
    }
   ],
   "source": [
    "val_ds.as_numpy_iterator().next()[0].max()"
   ]
  },
  {
   "cell_type": "code",
   "execution_count": 10,
   "id": "62c80c3d",
   "metadata": {},
   "outputs": [],
   "source": [
    "AUTOTUNE = tf.data.AUTOTUNE\n",
    "\n",
    "train_ds = train_ds.cache().prefetch(buffer_size=AUTOTUNE)\n",
    "val_ds = val_ds.cache().prefetch(buffer_size=AUTOTUNE)"
   ]
  },
  {
   "cell_type": "code",
   "execution_count": 11,
   "id": "c81a7a2c",
   "metadata": {},
   "outputs": [],
   "source": [
    "model = tf.keras.models.Sequential([\n",
    "    tf.keras.layers.Flatten(input_shape=(48,48,)),\n",
    "    tf.keras.layers.Dense(1024, activation= 'relu'),\n",
    "    tf.keras.layers.Dense(512, activation= 'relu'),\n",
    "    tf.keras.layers.Dense(256, activation= 'relu'),\n",
    "    tf.keras.layers.Dense(128, activation= 'relu'),\n",
    "    tf.keras.layers.Dense(64, activation= 'relu'),\n",
    "    tf.keras.layers.Dense(64, activation= 'relu'),\n",
    "    tf.keras.layers.Dense(32, activation= 'relu'),\n",
    "    \n",
    " \n",
    "    tf.keras.layers.Dropout(0.2),\n",
    "    tf.keras.layers.Dense(7, activation='softmax')\n",
    "])"
   ]
  },
  {
   "cell_type": "code",
   "execution_count": 12,
   "id": "02ca7504",
   "metadata": {
    "scrolled": true
   },
   "outputs": [],
   "source": [
    "from tensorflow.keras import optimizers\n",
    "opt=optimizers.Adam(0.001)"
   ]
  },
  {
   "cell_type": "code",
   "execution_count": 13,
   "id": "74fc4991",
   "metadata": {},
   "outputs": [],
   "source": [
    "model.compile(optimizer=opt,\n",
    "  loss=\"categorical_crossentropy\",\n",
    "    metrics=['accuracy'])"
   ]
  },
  {
   "cell_type": "code",
   "execution_count": 25,
   "id": "1f5c4142",
   "metadata": {},
   "outputs": [],
   "source": [
    "model.compile(\"adam\",\n",
    "  loss=\"categorical_crossentropy\",\n",
    "    metrics=['accuracy'])"
   ]
  },
  {
   "cell_type": "code",
   "execution_count": 14,
   "id": "d88ecd24",
   "metadata": {},
   "outputs": [
    {
     "name": "stdout",
     "output_type": "stream",
     "text": [
      "Model: \"sequential\"\n",
      "_________________________________________________________________\n",
      " Layer (type)                Output Shape              Param #   \n",
      "=================================================================\n",
      " flatten (Flatten)           (None, 2304)              0         \n",
      "                                                                 \n",
      " dense (Dense)               (None, 1024)              2360320   \n",
      "                                                                 \n",
      " dense_1 (Dense)             (None, 512)               524800    \n",
      "                                                                 \n",
      " dense_2 (Dense)             (None, 256)               131328    \n",
      "                                                                 \n",
      " dense_3 (Dense)             (None, 128)               32896     \n",
      "                                                                 \n",
      " dense_4 (Dense)             (None, 64)                8256      \n",
      "                                                                 \n",
      " dense_5 (Dense)             (None, 64)                4160      \n",
      "                                                                 \n",
      " dense_6 (Dense)             (None, 32)                2080      \n",
      "                                                                 \n",
      " dropout (Dropout)           (None, 32)                0         \n",
      "                                                                 \n",
      " dense_7 (Dense)             (None, 7)                 231       \n",
      "                                                                 \n",
      "=================================================================\n",
      "Total params: 3,064,071\n",
      "Trainable params: 3,064,071\n",
      "Non-trainable params: 0\n",
      "_________________________________________________________________\n"
     ]
    }
   ],
   "source": [
    "model.summary()\n"
   ]
  },
  {
   "cell_type": "code",
   "execution_count": 17,
   "id": "7332e893",
   "metadata": {},
   "outputs": [],
   "source": [
    "from keras.callbacks import ModelCheckpoint, EarlyStopping\n",
    "\n",
    "\n",
    "es = EarlyStopping(monitor='val_accuracy', min_delta= 0.01 , patience= 5, verbose= 1, mode='auto')\n",
    "\n",
    "# model check point\n",
    "mc = ModelCheckpoint(filepath=\"best_model.h5\", monitor= 'val_accuracy', verbose= 1, save_best_only= True, mode = 'auto')\n",
    "\n",
    "# puting call back in a list \n",
    "call_back = [es, mc]"
   ]
  },
  {
   "cell_type": "code",
   "execution_count": 15,
   "id": "25bd4d98",
   "metadata": {},
   "outputs": [
    {
     "name": "stdout",
     "output_type": "stream",
     "text": [
      "Epoch 1/100\n",
      "449/449 [==============================] - 77s 162ms/step - loss: 1.8161 - accuracy: 0.2459 - val_loss: 1.7514 - val_accuracy: 0.2770\n",
      "Epoch 2/100\n",
      "449/449 [==============================] - 19s 42ms/step - loss: 1.7418 - accuracy: 0.2981 - val_loss: 1.7055 - val_accuracy: 0.3070\n",
      "Epoch 3/100\n",
      "449/449 [==============================] - 19s 42ms/step - loss: 1.7132 - accuracy: 0.3161 - val_loss: 1.6827 - val_accuracy: 0.3387\n",
      "Epoch 4/100\n",
      "449/449 [==============================] - 19s 42ms/step - loss: 1.6942 - accuracy: 0.3281 - val_loss: 1.6583 - val_accuracy: 0.3571\n",
      "Epoch 5/100\n",
      "449/449 [==============================] - 19s 41ms/step - loss: 1.6767 - accuracy: 0.3402 - val_loss: 1.6613 - val_accuracy: 0.3525\n",
      "Epoch 6/100\n",
      "449/449 [==============================] - 19s 41ms/step - loss: 1.6610 - accuracy: 0.3494 - val_loss: 1.6495 - val_accuracy: 0.3608\n",
      "Epoch 7/100\n",
      "449/449 [==============================] - 19s 42ms/step - loss: 1.6485 - accuracy: 0.3537 - val_loss: 1.6135 - val_accuracy: 0.3745\n",
      "Epoch 8/100\n",
      "449/449 [==============================] - 18s 41ms/step - loss: 1.6365 - accuracy: 0.3592 - val_loss: 1.6148 - val_accuracy: 0.3761\n",
      "Epoch 9/100\n",
      "449/449 [==============================] - 19s 41ms/step - loss: 1.6306 - accuracy: 0.3628 - val_loss: 1.6118 - val_accuracy: 0.3788\n",
      "Epoch 10/100\n",
      "449/449 [==============================] - 18s 41ms/step - loss: 1.6254 - accuracy: 0.3634 - val_loss: 1.6009 - val_accuracy: 0.3778\n",
      "Epoch 11/100\n",
      "449/449 [==============================] - 19s 41ms/step - loss: 1.6151 - accuracy: 0.3681 - val_loss: 1.6169 - val_accuracy: 0.3709\n",
      "Epoch 12/100\n",
      "449/449 [==============================] - 19s 42ms/step - loss: 1.6087 - accuracy: 0.3690 - val_loss: 1.6274 - val_accuracy: 0.3657\n",
      "Epoch 13/100\n",
      "449/449 [==============================] - 18s 41ms/step - loss: 1.6012 - accuracy: 0.3731 - val_loss: 1.5902 - val_accuracy: 0.3856\n",
      "Epoch 14/100\n",
      "449/449 [==============================] - 17s 39ms/step - loss: 1.5928 - accuracy: 0.3781 - val_loss: 1.5980 - val_accuracy: 0.3791\n",
      "Epoch 15/100\n",
      "449/449 [==============================] - 17s 38ms/step - loss: 1.5883 - accuracy: 0.3778 - val_loss: 1.5918 - val_accuracy: 0.3851\n",
      "Epoch 16/100\n",
      "449/449 [==============================] - 17s 37ms/step - loss: 1.5854 - accuracy: 0.3818 - val_loss: 1.5854 - val_accuracy: 0.3821\n",
      "Epoch 17/100\n",
      "449/449 [==============================] - 17s 39ms/step - loss: 1.5775 - accuracy: 0.3824 - val_loss: 1.5912 - val_accuracy: 0.3785\n",
      "Epoch 18/100\n",
      "449/449 [==============================] - 18s 39ms/step - loss: 1.5711 - accuracy: 0.3824 - val_loss: 1.5806 - val_accuracy: 0.3831\n",
      "Epoch 19/100\n",
      "449/449 [==============================] - 17s 39ms/step - loss: 1.5671 - accuracy: 0.3869 - val_loss: 1.5958 - val_accuracy: 0.3823\n",
      "Epoch 20/100\n",
      "449/449 [==============================] - 17s 39ms/step - loss: 1.5627 - accuracy: 0.3900 - val_loss: 1.5859 - val_accuracy: 0.3828\n",
      "Epoch 21/100\n",
      "449/449 [==============================] - 17s 39ms/step - loss: 1.5579 - accuracy: 0.3924 - val_loss: 1.6002 - val_accuracy: 0.3795\n",
      "Epoch 22/100\n",
      "449/449 [==============================] - 17s 39ms/step - loss: 1.5564 - accuracy: 0.3922 - val_loss: 1.5986 - val_accuracy: 0.3837\n",
      "Epoch 23/100\n",
      "449/449 [==============================] - 17s 39ms/step - loss: 1.5481 - accuracy: 0.3932 - val_loss: 1.6086 - val_accuracy: 0.3729\n",
      "Epoch 24/100\n",
      "449/449 [==============================] - 17s 38ms/step - loss: 1.5421 - accuracy: 0.3983 - val_loss: 1.5962 - val_accuracy: 0.3851\n",
      "Epoch 25/100\n",
      "449/449 [==============================] - 18s 40ms/step - loss: 1.5350 - accuracy: 0.4008 - val_loss: 1.5783 - val_accuracy: 0.3870\n",
      "Epoch 26/100\n",
      "449/449 [==============================] - 18s 39ms/step - loss: 1.5353 - accuracy: 0.4013 - val_loss: 1.5957 - val_accuracy: 0.3757\n",
      "Epoch 27/100\n",
      "449/449 [==============================] - 18s 41ms/step - loss: 1.5231 - accuracy: 0.4052 - val_loss: 1.5992 - val_accuracy: 0.3735\n",
      "Epoch 28/100\n",
      "449/449 [==============================] - 18s 39ms/step - loss: 1.5189 - accuracy: 0.4091 - val_loss: 1.6048 - val_accuracy: 0.3702\n",
      "Epoch 29/100\n",
      "449/449 [==============================] - 18s 39ms/step - loss: 1.5184 - accuracy: 0.4091 - val_loss: 1.6109 - val_accuracy: 0.3724\n",
      "Epoch 30/100\n",
      "449/449 [==============================] - 18s 39ms/step - loss: 1.5082 - accuracy: 0.4129 - val_loss: 1.6229 - val_accuracy: 0.3827\n",
      "Epoch 31/100\n",
      "449/449 [==============================] - 18s 39ms/step - loss: 1.5069 - accuracy: 0.4127 - val_loss: 1.6386 - val_accuracy: 0.3611\n",
      "Epoch 32/100\n",
      "449/449 [==============================] - 18s 39ms/step - loss: 1.5096 - accuracy: 0.4125 - val_loss: 1.6511 - val_accuracy: 0.3689\n",
      "Epoch 33/100\n",
      "449/449 [==============================] - 18s 40ms/step - loss: 1.5008 - accuracy: 0.4131 - val_loss: 1.6381 - val_accuracy: 0.3788\n",
      "Epoch 34/100\n",
      "449/449 [==============================] - 19s 42ms/step - loss: 1.4953 - accuracy: 0.4177 - val_loss: 1.6477 - val_accuracy: 0.3761\n",
      "Epoch 35/100\n",
      "449/449 [==============================] - 19s 43ms/step - loss: 1.5001 - accuracy: 0.4152 - val_loss: 1.6198 - val_accuracy: 0.3810\n",
      "Epoch 36/100\n",
      "449/449 [==============================] - 11s 24ms/step - loss: 1.4874 - accuracy: 0.4228 - val_loss: 1.6635 - val_accuracy: 0.3654\n",
      "Epoch 37/100\n",
      "449/449 [==============================] - 10s 22ms/step - loss: 1.4814 - accuracy: 0.4236 - val_loss: 1.6575 - val_accuracy: 0.3636\n",
      "Epoch 38/100\n",
      "449/449 [==============================] - 9s 20ms/step - loss: 1.4855 - accuracy: 0.4231 - val_loss: 1.6426 - val_accuracy: 0.3770\n",
      "Epoch 39/100\n",
      "449/449 [==============================] - 9s 20ms/step - loss: 1.4731 - accuracy: 0.4255 - val_loss: 1.6746 - val_accuracy: 0.3646\n",
      "Epoch 40/100\n",
      "449/449 [==============================] - 9s 20ms/step - loss: 1.4726 - accuracy: 0.4244 - val_loss: 1.6277 - val_accuracy: 0.3735\n",
      "Epoch 41/100\n",
      "449/449 [==============================] - 9s 21ms/step - loss: 1.4711 - accuracy: 0.4260 - val_loss: 1.6304 - val_accuracy: 0.3853\n",
      "Epoch 42/100\n",
      "449/449 [==============================] - 9s 20ms/step - loss: 1.4678 - accuracy: 0.4262 - val_loss: 1.6970 - val_accuracy: 0.3561\n",
      "Epoch 43/100\n",
      "449/449 [==============================] - 9s 20ms/step - loss: 1.4589 - accuracy: 0.4311 - val_loss: 1.6972 - val_accuracy: 0.3685\n",
      "Epoch 44/100\n",
      "449/449 [==============================] - 10s 22ms/step - loss: 1.4600 - accuracy: 0.4345 - val_loss: 1.6455 - val_accuracy: 0.3761\n",
      "Epoch 45/100\n",
      "449/449 [==============================] - 9s 20ms/step - loss: 1.4623 - accuracy: 0.4320 - val_loss: 1.7130 - val_accuracy: 0.3697\n",
      "Epoch 46/100\n",
      "449/449 [==============================] - 9s 20ms/step - loss: 1.4522 - accuracy: 0.4362 - val_loss: 1.6609 - val_accuracy: 0.3777\n",
      "Epoch 47/100\n",
      "449/449 [==============================] - 9s 20ms/step - loss: 1.4523 - accuracy: 0.4371 - val_loss: 1.7206 - val_accuracy: 0.3626\n",
      "Epoch 48/100\n",
      "449/449 [==============================] - 9s 20ms/step - loss: 1.4432 - accuracy: 0.4408 - val_loss: 1.6981 - val_accuracy: 0.3720\n",
      "Epoch 49/100\n",
      "449/449 [==============================] - 9s 20ms/step - loss: 1.4361 - accuracy: 0.4429 - val_loss: 1.7556 - val_accuracy: 0.3565\n",
      "Epoch 50/100\n",
      "449/449 [==============================] - 9s 20ms/step - loss: 1.4419 - accuracy: 0.4402 - val_loss: 1.6774 - val_accuracy: 0.3706\n",
      "Epoch 51/100\n",
      "449/449 [==============================] - 10s 22ms/step - loss: 1.4388 - accuracy: 0.4424 - val_loss: 1.7063 - val_accuracy: 0.3748\n",
      "Epoch 52/100\n",
      "449/449 [==============================] - 10s 23ms/step - loss: 1.4357 - accuracy: 0.4446 - val_loss: 1.6991 - val_accuracy: 0.3658\n",
      "Epoch 53/100\n",
      "449/449 [==============================] - 10s 23ms/step - loss: 1.4179 - accuracy: 0.4486 - val_loss: 1.6474 - val_accuracy: 0.3770\n",
      "Epoch 54/100\n",
      "449/449 [==============================] - 10s 22ms/step - loss: 1.4227 - accuracy: 0.4479 - val_loss: 1.7151 - val_accuracy: 0.3671\n",
      "Epoch 55/100\n",
      "449/449 [==============================] - 10s 23ms/step - loss: 1.4253 - accuracy: 0.4437 - val_loss: 1.7276 - val_accuracy: 0.3619\n",
      "Epoch 56/100\n",
      "449/449 [==============================] - 10s 21ms/step - loss: 1.4259 - accuracy: 0.4441 - val_loss: 1.7074 - val_accuracy: 0.3686\n",
      "Epoch 57/100\n",
      "449/449 [==============================] - 9s 21ms/step - loss: 1.4097 - accuracy: 0.4540 - val_loss: 1.7222 - val_accuracy: 0.3706\n",
      "Epoch 58/100\n",
      "449/449 [==============================] - 9s 21ms/step - loss: 1.4196 - accuracy: 0.4478 - val_loss: 1.7349 - val_accuracy: 0.3657\n",
      "Epoch 59/100\n",
      "449/449 [==============================] - 9s 21ms/step - loss: 1.4284 - accuracy: 0.4446 - val_loss: 1.6926 - val_accuracy: 0.3770\n",
      "Epoch 60/100\n",
      "449/449 [==============================] - 9s 21ms/step - loss: 1.4284 - accuracy: 0.4446 - val_loss: 1.7028 - val_accuracy: 0.3766\n",
      "Epoch 61/100\n",
      "449/449 [==============================] - 9s 21ms/step - loss: 1.4287 - accuracy: 0.4467 - val_loss: 1.7450 - val_accuracy: 0.3649\n",
      "Epoch 62/100\n",
      "449/449 [==============================] - 9s 21ms/step - loss: 1.4207 - accuracy: 0.4480 - val_loss: 1.7109 - val_accuracy: 0.3771\n",
      "Epoch 63/100\n",
      "449/449 [==============================] - 10s 21ms/step - loss: 1.4094 - accuracy: 0.4503 - val_loss: 1.7355 - val_accuracy: 0.3781\n",
      "Epoch 64/100\n",
      "449/449 [==============================] - 9s 21ms/step - loss: 1.3996 - accuracy: 0.4558 - val_loss: 1.7246 - val_accuracy: 0.3802\n",
      "Epoch 65/100\n",
      "449/449 [==============================] - 9s 21ms/step - loss: 1.3927 - accuracy: 0.4597 - val_loss: 1.7490 - val_accuracy: 0.3782\n",
      "Epoch 66/100\n",
      "449/449 [==============================] - 9s 21ms/step - loss: 1.3850 - accuracy: 0.4629 - val_loss: 1.7419 - val_accuracy: 0.3792\n",
      "Epoch 67/100\n",
      "449/449 [==============================] - 10s 22ms/step - loss: 1.3835 - accuracy: 0.4618 - val_loss: 1.7873 - val_accuracy: 0.3810\n",
      "Epoch 68/100\n",
      "449/449 [==============================] - 9s 21ms/step - loss: 1.3966 - accuracy: 0.4599 - val_loss: 1.8145 - val_accuracy: 0.3827\n",
      "Epoch 69/100\n",
      "449/449 [==============================] - 10s 22ms/step - loss: 1.3821 - accuracy: 0.4649 - val_loss: 1.8100 - val_accuracy: 0.3741\n",
      "Epoch 70/100\n",
      "449/449 [==============================] - 10s 22ms/step - loss: 1.3803 - accuracy: 0.4637 - val_loss: 1.8809 - val_accuracy: 0.3702\n",
      "Epoch 71/100\n",
      "449/449 [==============================] - 10s 22ms/step - loss: 1.3749 - accuracy: 0.4683 - val_loss: 1.8276 - val_accuracy: 0.3753\n",
      "Epoch 72/100\n",
      "449/449 [==============================] - 10s 22ms/step - loss: 1.3867 - accuracy: 0.4639 - val_loss: 1.7731 - val_accuracy: 0.3771\n",
      "Epoch 73/100\n",
      "449/449 [==============================] - 10s 22ms/step - loss: 1.3526 - accuracy: 0.4780 - val_loss: 1.8487 - val_accuracy: 0.3714\n",
      "Epoch 74/100\n",
      "449/449 [==============================] - 10s 22ms/step - loss: 1.3566 - accuracy: 0.4758 - val_loss: 1.8654 - val_accuracy: 0.3716\n",
      "Epoch 75/100\n",
      "449/449 [==============================] - 10s 23ms/step - loss: 1.3468 - accuracy: 0.4814 - val_loss: 1.8045 - val_accuracy: 0.3820\n",
      "Epoch 76/100\n",
      "449/449 [==============================] - 10s 22ms/step - loss: 1.3433 - accuracy: 0.4805 - val_loss: 1.8462 - val_accuracy: 0.3700\n",
      "Epoch 77/100\n",
      "449/449 [==============================] - 10s 22ms/step - loss: 1.3460 - accuracy: 0.4811 - val_loss: 1.7932 - val_accuracy: 0.3794\n",
      "Epoch 78/100\n",
      "449/449 [==============================] - 10s 22ms/step - loss: 1.3306 - accuracy: 0.4829 - val_loss: 1.8421 - val_accuracy: 0.3787\n",
      "Epoch 79/100\n",
      "449/449 [==============================] - 10s 21ms/step - loss: 1.3413 - accuracy: 0.4838 - val_loss: 1.7509 - val_accuracy: 0.3791\n",
      "Epoch 80/100\n",
      "449/449 [==============================] - 10s 22ms/step - loss: 1.3302 - accuracy: 0.4867 - val_loss: 1.8361 - val_accuracy: 0.3814\n",
      "Epoch 81/100\n",
      "449/449 [==============================] - 10s 21ms/step - loss: 1.3442 - accuracy: 0.4813 - val_loss: 1.8122 - val_accuracy: 0.3803\n",
      "Epoch 82/100\n",
      "449/449 [==============================] - 10s 22ms/step - loss: 1.3307 - accuracy: 0.4872 - val_loss: 1.8039 - val_accuracy: 0.3869\n",
      "Epoch 83/100\n",
      "449/449 [==============================] - 10s 21ms/step - loss: 1.3305 - accuracy: 0.4862 - val_loss: 1.9049 - val_accuracy: 0.3835\n",
      "Epoch 84/100\n",
      "449/449 [==============================] - 10s 21ms/step - loss: 1.3202 - accuracy: 0.4936 - val_loss: 1.8838 - val_accuracy: 0.3820\n",
      "Epoch 85/100\n",
      "449/449 [==============================] - 10s 21ms/step - loss: 1.3086 - accuracy: 0.4962 - val_loss: 1.9354 - val_accuracy: 0.3819\n",
      "Epoch 86/100\n",
      "449/449 [==============================] - 10s 21ms/step - loss: 1.2985 - accuracy: 0.4995 - val_loss: 1.9655 - val_accuracy: 0.3812\n",
      "Epoch 87/100\n",
      "449/449 [==============================] - 11s 24ms/step - loss: 1.3013 - accuracy: 0.5012 - val_loss: 1.9220 - val_accuracy: 0.3859\n",
      "Epoch 88/100\n",
      "449/449 [==============================] - 10s 23ms/step - loss: 1.2920 - accuracy: 0.5033 - val_loss: 1.9224 - val_accuracy: 0.3842\n",
      "Epoch 89/100\n",
      "449/449 [==============================] - 11s 25ms/step - loss: 1.2935 - accuracy: 0.5021 - val_loss: 1.8915 - val_accuracy: 0.3876\n",
      "Epoch 90/100\n",
      "449/449 [==============================] - 12s 26ms/step - loss: 1.2855 - accuracy: 0.5066 - val_loss: 1.9096 - val_accuracy: 0.3823\n",
      "Epoch 91/100\n",
      "449/449 [==============================] - 11s 24ms/step - loss: 1.2864 - accuracy: 0.5082 - val_loss: 1.9689 - val_accuracy: 0.3813\n",
      "Epoch 92/100\n",
      "449/449 [==============================] - 10s 22ms/step - loss: 1.2699 - accuracy: 0.5126 - val_loss: 1.9348 - val_accuracy: 0.3813\n",
      "Epoch 93/100\n",
      "449/449 [==============================] - 10s 22ms/step - loss: 1.2943 - accuracy: 0.4997 - val_loss: 1.9317 - val_accuracy: 0.3872\n",
      "Epoch 94/100\n",
      "449/449 [==============================] - 10s 22ms/step - loss: 1.2793 - accuracy: 0.5080 - val_loss: 1.9363 - val_accuracy: 0.3816\n",
      "Epoch 95/100\n",
      "449/449 [==============================] - 9s 21ms/step - loss: 1.2776 - accuracy: 0.5094 - val_loss: 1.9869 - val_accuracy: 0.3735\n",
      "Epoch 96/100\n",
      "449/449 [==============================] - 10s 21ms/step - loss: 1.2787 - accuracy: 0.5105 - val_loss: 1.9090 - val_accuracy: 0.3834\n",
      "Epoch 97/100\n",
      "449/449 [==============================] - 10s 22ms/step - loss: 1.2682 - accuracy: 0.5130 - val_loss: 1.9262 - val_accuracy: 0.3838\n",
      "Epoch 98/100\n",
      "449/449 [==============================] - 10s 22ms/step - loss: 1.2648 - accuracy: 0.5167 - val_loss: 1.9494 - val_accuracy: 0.3795\n",
      "Epoch 99/100\n",
      "449/449 [==============================] - 10s 22ms/step - loss: 1.2784 - accuracy: 0.5133 - val_loss: 2.0139 - val_accuracy: 0.3720\n",
      "Epoch 100/100\n",
      "449/449 [==============================] - 11s 24ms/step - loss: 1.2864 - accuracy: 0.5059 - val_loss: 1.8126 - val_accuracy: 0.3807\n"
     ]
    }
   ],
   "source": [
    "history_1 = model.fit(\n",
    "  train_ds,\n",
    "  validation_data=val_ds,\n",
    "  epochs=100,\n",
    ")"
   ]
  },
  {
   "cell_type": "code",
   "execution_count": 35,
   "id": "d8994b6d",
   "metadata": {},
   "outputs": [],
   "source": [
    "#this noteback\n",
    "model.save('_t_da.h5')"
   ]
  },
  {
   "cell_type": "code",
   "execution_count": 19,
   "id": "bf18294b",
   "metadata": {},
   "outputs": [],
   "source": [
    "model.save('ai.h5')"
   ]
  },
  {
   "cell_type": "code",
   "execution_count": 17,
   "id": "7c345b9f",
   "metadata": {},
   "outputs": [],
   "source": [
    "model.save('ai_ma_f.h5')"
   ]
  },
  {
   "cell_type": "code",
   "execution_count": 28,
   "id": "edf90ec0",
   "metadata": {},
   "outputs": [],
   "source": [
    "model.save('ai_val.h5')"
   ]
  },
  {
   "cell_type": "code",
   "execution_count": 11,
   "id": "58bab904",
   "metadata": {},
   "outputs": [
    {
     "name": "stdout",
     "output_type": "stream",
     "text": [
      "Model: \"sequential\"\n",
      "_________________________________________________________________\n",
      " Layer (type)                Output Shape              Param #   \n",
      "=================================================================\n",
      " flatten (Flatten)           (None, 2304)              0         \n",
      "                                                                 \n",
      " dense (Dense)               (None, 1024)              2360320   \n",
      "                                                                 \n",
      " dense_1 (Dense)             (None, 512)               524800    \n",
      "                                                                 \n",
      " dense_2 (Dense)             (None, 256)               131328    \n",
      "                                                                 \n",
      " dense_3 (Dense)             (None, 128)               32896     \n",
      "                                                                 \n",
      " dense_4 (Dense)             (None, 64)                8256      \n",
      "                                                                 \n",
      " dense_5 (Dense)             (None, 64)                4160      \n",
      "                                                                 \n",
      " dense_6 (Dense)             (None, 32)                2080      \n",
      "                                                                 \n",
      " dropout (Dropout)           (None, 32)                0         \n",
      "                                                                 \n",
      " dense_7 (Dense)             (None, 7)                 231       \n",
      "                                                                 \n",
      "=================================================================\n",
      "Total params: 3,064,071\n",
      "Trainable params: 3,064,071\n",
      "Non-trainable params: 0\n",
      "_________________________________________________________________\n"
     ]
    }
   ],
   "source": [
    "model_2=tf.keras.models.load_model('ai.h5')\n",
    "model_2.summary()\n"
   ]
  },
  {
   "cell_type": "code",
   "execution_count": 16,
   "id": "c18ac0d9",
   "metadata": {},
   "outputs": [
    {
     "data": {
      "text/plain": [
       "<matplotlib.legend.Legend at 0x1f624685cd0>"
      ]
     },
     "execution_count": 16,
     "metadata": {},
     "output_type": "execute_result"
    },
    {
     "data": {
      "image/png": "[encoded data removed]",
      "text/plain": [
       "<Figure size 432x288 with 1 Axes>"
      ]
     },
     "metadata": {
      "needs_background": "light"
     },
     "output_type": "display_data"
    }
   ],
   "source": [
    "plt.plot(history_1.history['loss'], label= 'loss')\n",
    "plt.plot(history_1.history['val_loss'], label= 'val_loss')\n",
    "plt.legend()"
   ]
  },
  {
   "cell_type": "code",
   "execution_count": 17,
   "id": "a0a5682f",
   "metadata": {},
   "outputs": [
    {
     "data": {
      "text/plain": [
       "<matplotlib.legend.Legend at 0x1f622051820>"
      ]
     },
     "execution_count": 17,
     "metadata": {},
     "output_type": "execute_result"
    },
    {
     "data": {
      "image/png": "[encoded data removed]",
      "text/plain": [
       "<Figure size 432x288 with 1 Axes>"
      ]
     },
     "metadata": {
      "needs_background": "light"
     },
     "output_type": "display_data"
    }
   ],
   "source": [
    "plt.plot(history_1.history['accuracy'], label= 'accuracy')\n",
    "plt.plot(history_1.history['val_accuracy'], label= 'val_accuracy')\n",
    "plt.legend()"
   ]
  },
  {
   "cell_type": "code",
   "execution_count": 18,
   "id": "bde5f904",
   "metadata": {},
   "outputs": [],
   "source": [
    "from tensorflow.keras.preprocessing import image\n",
    "classes=['Angry','Disgust','Fear','Happy','Neutral','Sad','Surprise']"
   ]
  },
  {
   "cell_type": "code",
   "execution_count": 30,
   "id": "6ab7b71e",
   "metadata": {},
   "outputs": [
    {
     "name": "stdout",
     "output_type": "stream",
     "text": [
      "(48, 48, 1)\n"
     ]
    },
    {
     "data": {
      "image/png": "[encoded data removed]",
      "text/plain": [
       "<Figure size 432x288 with 1 Axes>"
      ]
     },
     "metadata": {
      "needs_background": "light"
     },
     "output_type": "display_data"
    }
   ],
   "source": [
    "from tensorflow.keras.preprocessing import image\n",
    "img_path=\"D:/facial_expression/test/sad/PrivateTest_2326190.jpg\"\n",
    "test_image=image.load_img(img_path,target_size=(48,48),color_mode='grayscale')\n",
    "test_image=image.img_to_array(test_image)/255\n",
    "print(test_image.shape)\n",
    "plt.imshow(test_image)\n",
    "plt.show()"
   ]
  },
  {
   "cell_type": "code",
   "execution_count": 32,
   "id": "3f776534",
   "metadata": {},
   "outputs": [
    {
     "name": "stdout",
     "output_type": "stream",
     "text": [
      "1/1 [==============================] - 0s 25ms/step\n",
      "[0.19297683 0.02776267 0.18839519 0.05152686 0.23499122 0.25289235\n",
      " 0.05145484]\n",
      "The person facial emotion is: Sad\n"
     ]
    }
   ],
   "source": [
    "test_image=test_image.reshape(1,48,48,1)\n",
    "classes=['Angry','Disgust','Fear','Happy','Neutral','Sad','Surprise']\n",
    "result=model.predict(test_image)\n",
    "print(result[0])\n",
    "y_pred=np.argmax(result)\n",
    "print('The person facial emotion is:',classes[y_pred])"
   ]
  },
  {
   "cell_type": "code",
   "execution_count": 33,
   "id": "e9f97a2f",
   "metadata": {},
   "outputs": [
    {
     "name": "stdout",
     "output_type": "stream",
     "text": [
      "1/1 [==============================] - 0s 24ms/step\n",
      " the image is of Neutral\n"
     ]
    },
    {
     "data": {
      "image/png": "[encoded data removed]",
      "text/plain": [
       "<Figure size 432x288 with 1 Axes>"
      ]
     },
     "metadata": {
      "needs_background": "light"
     },
     "output_type": "display_data"
    }
   ],
   "source": [
    "\n",
    "path = \"D:/facial_expression/test/neutral/PrivateTest_59059.jpg\"\n",
    "img = image.load_img(path, target_size=(48,48) ,color_mode='grayscale')\n",
    "\n",
    "i = image.img_to_array(img)/255\n",
    "input_arr = np.array([i])\n",
    "input_arr.shape\n",
    "\n",
    "pred = np.argmax(model.predict(input_arr))\n",
    "\n",
    "print(f\" the image is of {classes[pred]}\")\n",
    "\n",
    "# to display the image  \n",
    "plt.imshow(input_arr[0])\n",
    "plt.title(\"input image\")\n",
    "plt.show()\n"
   ]
  },
  {
   "cell_type": "code",
   "execution_count": 34,
   "id": "38c2da7c",
   "metadata": {},
   "outputs": [
    {
     "name": "stdout",
     "output_type": "stream",
     "text": [
      "1/1 [==============================] - 0s 23ms/step\n",
      " the image is of Happy\n"
     ]
    },
    {
     "data": {
      "image/png": "[encoded data removed]",
      "text/plain": [
       "<Figure size 432x288 with 1 Axes>"
      ]
     },
     "metadata": {
      "needs_background": "light"
     },
     "output_type": "display_data"
    }
   ],
   "source": [
    "\n",
    "path = \"D:/facial_expression/test/happy/PrivateTest_95094.jpg\"\n",
    "img = image.load_img(path, target_size=(48,48) ,color_mode='grayscale')\n",
    "\n",
    "i = image.img_to_array(img)/255\n",
    "input_arr = np.array([i])\n",
    "input_arr.shape\n",
    "\n",
    "pred = np.argmax(model.predict(input_arr))\n",
    "\n",
    "print(f\" the image is of {classes[pred]}\")\n",
    "\n",
    "# to display the image  \n",
    "plt.imshow(input_arr[0])\n",
    "plt.title(\"input image\")\n",
    "plt.show()\n"
   ]
  }
 ],
 "metadata": {
  "kernelspec": {
   "display_name": "Python 3 (ipykernel)",
   "language": "python",
   "name": "python3"
  },
  "language_info": {
   "codemirror_mode": {
    "name": "ipython",
    "version": 3
   },
   "file_extension": ".py",
   "mimetype": "text/x-python",
   "name": "python",
   "nbconvert_exporter": "python",
   "pygments_lexer": "ipython3",
   "version": "3.9.12"
  }
 },
 "nbformat": 4,
 "nbformat_minor": 5
}
