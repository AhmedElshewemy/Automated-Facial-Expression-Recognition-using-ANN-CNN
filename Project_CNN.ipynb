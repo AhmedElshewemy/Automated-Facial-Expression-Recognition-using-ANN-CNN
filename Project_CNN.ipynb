{
 "cells": [
  {
   "cell_type": "code",
   "execution_count": 1,
   "id": "d4f72211",
   "metadata": {},
   "outputs": [],
   "source": [
    "import numpy as np\n",
    "import os\n",
    "import PIL\n",
    "import PIL.Image\n",
    "import tensorflow as tf\n",
    "import pathlib\n",
    "import matplotlib.pyplot as plt\n",
    "import cv2\n",
    "import imghdr"
   ]
  },
  {
   "cell_type": "code",
   "execution_count": 2,
   "id": "1b885e68",
   "metadata": {},
   "outputs": [],
   "source": [
    "batch_size = 64\n",
    "img_height = 48\n",
    "img_width = 48"
   ]
  },
  {
   "cell_type": "code",
   "execution_count": 3,
   "id": "20d80639",
   "metadata": {},
   "outputs": [
    {
     "name": "stdout",
     "output_type": "stream",
     "text": [
      "Found 28709 files belonging to 7 classes.\n"
     ]
    }
   ],
   "source": [
    "train_ds = tf.keras.utils.image_dataset_from_directory(\n",
    " \"D:/facial_expression/train\",\n",
    "  labels = \"inferred\",\n",
    "  seed=123,\n",
    "  image_size=(img_height, img_width),\n",
    "  batch_size=batch_size,\n",
    "  color_mode='grayscale',\n",
    "  label_mode=\"categorical\")"
   ]
  },
  {
   "cell_type": "code",
   "execution_count": 4,
   "id": "bbbf1e53",
   "metadata": {},
   "outputs": [
    {
     "name": "stdout",
     "output_type": "stream",
     "text": [
      "Found 7178 files belonging to 7 classes.\n"
     ]
    }
   ],
   "source": [
    "val_ds = tf.keras.utils.image_dataset_from_directory(\n",
    " \"D:/facial_expression/test\",\n",
    "  labels = 'inferred',\n",
    "  label_mode = \"categorical\",\n",
    "  seed=123,\n",
    "  image_size=(48, 48),\n",
    "  batch_size=batch_size,\n",
    "  color_mode='grayscale')"
   ]
  },
  {
   "cell_type": "code",
   "execution_count": 5,
   "id": "c41fb6d4",
   "metadata": {},
   "outputs": [
    {
     "data": {
      "text/plain": [
       "['angry', 'disgust', 'fear', 'happy', 'neutral', 'sad', 'surprise']"
      ]
     },
     "execution_count": 5,
     "metadata": {},
     "output_type": "execute_result"
    }
   ],
   "source": [
    "class_names = train_ds.class_names\n",
    "class_names\n"
   ]
  },
  {
   "cell_type": "code",
   "execution_count": 6,
   "id": "3ba11590",
   "metadata": {},
   "outputs": [
    {
     "name": "stdout",
     "output_type": "stream",
     "text": [
      "(64, 48, 48, 1)\n",
      "(64, 7)\n"
     ]
    }
   ],
   "source": [
    "for image_batch, labels_batch in train_ds:\n",
    "    print(image_batch.shape)\n",
    "    print(labels_batch.shape)\n",
    "    break"
   ]
  },
  {
   "cell_type": "code",
   "execution_count": 7,
   "id": "2e481c0a",
   "metadata": {},
   "outputs": [
    {
     "name": "stdout",
     "output_type": "stream",
     "text": [
      "WARNING:tensorflow:From D:\\ANCONDAPYTHON\\lib\\site-packages\\tensorflow\\python\\autograph\\pyct\\static_analysis\\liveness.py:83: Analyzer.lamba_check (from tensorflow.python.autograph.pyct.static_analysis.liveness) is deprecated and will be removed after 2023-09-23.\n",
      "Instructions for updating:\n",
      "Lambda fuctions will be no more assumed to be used in the statement where they are used, or at least in the same block. https://github.com/tensorflow/tensorflow/issues/56089\n"
     ]
    }
   ],
   "source": [
    "train_ds = train_ds.map(lambda x,y: (x/255, y))\n",
    "val_ds = val_ds.map(lambda x,y: (x/255, y))"
   ]
  },
  {
   "cell_type": "code",
   "execution_count": 8,
   "id": "b63b82d3",
   "metadata": {},
   "outputs": [
    {
     "data": {
      "text/plain": [
       "0.0"
      ]
     },
     "execution_count": 8,
     "metadata": {},
     "output_type": "execute_result"
    }
   ],
   "source": [
    "train_ds.as_numpy_iterator().next()[0].min()"
   ]
  },
  {
   "cell_type": "code",
   "execution_count": 9,
   "id": "bd418bec",
   "metadata": {},
   "outputs": [
    {
     "data": {
      "text/plain": [
       "1.0"
      ]
     },
     "execution_count": 9,
     "metadata": {},
     "output_type": "execute_result"
    }
   ],
   "source": [
    "val_ds.as_numpy_iterator().next()[0].max()"
   ]
  },
  {
   "cell_type": "code",
   "execution_count": 10,
   "id": "cdc61e0a",
   "metadata": {},
   "outputs": [],
   "source": [
    "AUTOTUNE = tf.data.AUTOTUNE\n",
    "\n",
    "train_ds = train_ds.cache().prefetch(buffer_size=AUTOTUNE)\n",
    "val_ds = val_ds.cache().prefetch(buffer_size=AUTOTUNE)"
   ]
  },
  {
   "cell_type": "code",
   "execution_count": 11,
   "id": "91b1f133",
   "metadata": {},
   "outputs": [],
   "source": [
    "import keras\n",
    "from tensorflow.keras import layers\n",
    "from tensorflow.keras.layers.experimental import preprocessing\n",
    "\n",
    "model_1 = keras.Sequential([\n",
    "    layers.Conv2D(64, (3,3), activation=\"relu\", input_shape=(img_height, img_width, 1)),\n",
    "    layers.BatchNormalization(),\n",
    "    layers.MaxPooling2D(),\n",
    "    \n",
    "    layers.Conv2D(64, (3,3), activation=\"relu\"),\n",
    "    layers.BatchNormalization(),\n",
    "    layers.MaxPooling2D(),\n",
    "    \n",
    "    layers.Conv2D(64, (3,3), activation=\"relu\"),\n",
    "    layers.BatchNormalization(),\n",
    "    layers.MaxPooling2D(),\n",
    "                  \n",
    "    layers.Flatten(),\n",
    "    layers.Dense(128, activation=\"relu\"),\n",
    "    layers.Dense(7, activation=\"softmax\")\n",
    "    ])"
   ]
  },
  {
   "cell_type": "code",
   "execution_count": 12,
   "id": "f036c634",
   "metadata": {},
   "outputs": [],
   "source": [
    "model_1.compile(\"adam\",\n",
    "  loss=\"categorical_crossentropy\",\n",
    "    metrics=['accuracy'])"
   ]
  },
  {
   "cell_type": "code",
   "execution_count": 13,
   "id": "072fd779",
   "metadata": {},
   "outputs": [
    {
     "name": "stdout",
     "output_type": "stream",
     "text": [
      "Model: \"sequential\"\n",
      "_________________________________________________________________\n",
      " Layer (type)                Output Shape              Param #   \n",
      "=================================================================\n",
      " conv2d (Conv2D)             (None, 46, 46, 64)        640       \n",
      "                                                                 \n",
      " batch_normalization (BatchN  (None, 46, 46, 64)       256       \n",
      " ormalization)                                                   \n",
      "                                                                 \n",
      " max_pooling2d (MaxPooling2D  (None, 23, 23, 64)       0         \n",
      " )                                                               \n",
      "                                                                 \n",
      " conv2d_1 (Conv2D)           (None, 21, 21, 64)        36928     \n",
      "                                                                 \n",
      " batch_normalization_1 (Batc  (None, 21, 21, 64)       256       \n",
      " hNormalization)                                                 \n",
      "                                                                 \n",
      " max_pooling2d_1 (MaxPooling  (None, 10, 10, 64)       0         \n",
      " 2D)                                                             \n",
      "                                                                 \n",
      " conv2d_2 (Conv2D)           (None, 8, 8, 64)          36928     \n",
      "                                                                 \n",
      " batch_normalization_2 (Batc  (None, 8, 8, 64)         256       \n",
      " hNormalization)                                                 \n",
      "                                                                 \n",
      " max_pooling2d_2 (MaxPooling  (None, 4, 4, 64)         0         \n",
      " 2D)                                                             \n",
      "                                                                 \n",
      " flatten (Flatten)           (None, 1024)              0         \n",
      "                                                                 \n",
      " dense (Dense)               (None, 128)               131200    \n",
      "                                                                 \n",
      " dense_1 (Dense)             (None, 7)                 903       \n",
      "                                                                 \n",
      "=================================================================\n",
      "Total params: 207,367\n",
      "Trainable params: 206,983\n",
      "Non-trainable params: 384\n",
      "_________________________________________________________________\n"
     ]
    }
   ],
   "source": [
    "model_1.summary()\n"
   ]
  },
  {
   "cell_type": "code",
   "execution_count": 14,
   "id": "c06ef7d0",
   "metadata": {},
   "outputs": [
    {
     "name": "stdout",
     "output_type": "stream",
     "text": [
      "Epoch 1/20\n",
      "449/449 [==============================] - 221s 489ms/step - loss: 1.5722 - accuracy: 0.3952 - val_loss: 1.6848 - val_accuracy: 0.3288\n",
      "Epoch 2/20\n",
      "449/449 [==============================] - 139s 310ms/step - loss: 1.2909 - accuracy: 0.5045 - val_loss: 1.4432 - val_accuracy: 0.4237\n",
      "Epoch 3/20\n",
      "449/449 [==============================] - 138s 308ms/step - loss: 1.1548 - accuracy: 0.5636 - val_loss: 1.6880 - val_accuracy: 0.3722\n",
      "Epoch 4/20\n",
      "449/449 [==============================] - 130s 289ms/step - loss: 1.0410 - accuracy: 0.6079 - val_loss: 2.0291 - val_accuracy: 0.3394\n",
      "Epoch 5/20\n",
      "449/449 [==============================] - 145s 322ms/step - loss: 0.9302 - accuracy: 0.6539 - val_loss: 1.3772 - val_accuracy: 0.4985\n",
      "Epoch 6/20\n",
      "449/449 [==============================] - 118s 262ms/step - loss: 0.8249 - accuracy: 0.6970 - val_loss: 1.3970 - val_accuracy: 0.5116\n",
      "Epoch 7/20\n",
      "449/449 [==============================] - 129s 286ms/step - loss: 0.7129 - accuracy: 0.7399 - val_loss: 1.6715 - val_accuracy: 0.4926\n",
      "Epoch 8/20\n",
      "449/449 [==============================] - 124s 277ms/step - loss: 0.6208 - accuracy: 0.7760 - val_loss: 1.7264 - val_accuracy: 0.4979\n",
      "Epoch 9/20\n",
      "449/449 [==============================] - 119s 265ms/step - loss: 0.5264 - accuracy: 0.8098 - val_loss: 1.9221 - val_accuracy: 0.4795\n",
      "Epoch 10/20\n",
      "449/449 [==============================] - 118s 264ms/step - loss: 0.4413 - accuracy: 0.8400 - val_loss: 1.9646 - val_accuracy: 0.4767\n",
      "Epoch 11/20\n",
      "449/449 [==============================] - 129s 287ms/step - loss: 0.3608 - accuracy: 0.8707 - val_loss: 2.4126 - val_accuracy: 0.4717\n",
      "Epoch 12/20\n",
      "449/449 [==============================] - 149s 332ms/step - loss: 0.2978 - accuracy: 0.8934 - val_loss: 2.5775 - val_accuracy: 0.5001\n",
      "Epoch 13/20\n",
      "449/449 [==============================] - 146s 324ms/step - loss: 0.2540 - accuracy: 0.9098 - val_loss: 2.7321 - val_accuracy: 0.4969\n",
      "Epoch 14/20\n",
      "449/449 [==============================] - 164s 365ms/step - loss: 0.2337 - accuracy: 0.9171 - val_loss: 2.9785 - val_accuracy: 0.4831\n",
      "Epoch 15/20\n",
      "449/449 [==============================] - 140s 311ms/step - loss: 0.2020 - accuracy: 0.9294 - val_loss: 3.0664 - val_accuracy: 0.5064\n",
      "Epoch 16/20\n",
      "449/449 [==============================] - 132s 294ms/step - loss: 0.1673 - accuracy: 0.9416 - val_loss: 3.1987 - val_accuracy: 0.5059\n",
      "Epoch 17/20\n",
      "449/449 [==============================] - 130s 289ms/step - loss: 0.1532 - accuracy: 0.9463 - val_loss: 3.2507 - val_accuracy: 0.5053\n",
      "Epoch 18/20\n",
      "449/449 [==============================] - 132s 294ms/step - loss: 0.1461 - accuracy: 0.9478 - val_loss: 3.2790 - val_accuracy: 0.5017\n",
      "Epoch 19/20\n",
      "449/449 [==============================] - 140s 312ms/step - loss: 0.1360 - accuracy: 0.9526 - val_loss: 3.4701 - val_accuracy: 0.4951\n",
      "Epoch 20/20\n",
      "449/449 [==============================] - 134s 299ms/step - loss: 0.1274 - accuracy: 0.9551 - val_loss: 3.7475 - val_accuracy: 0.5107\n"
     ]
    }
   ],
   "source": [
    "history_1 = model_1.fit(\n",
    "  train_ds,\n",
    "  validation_data=val_ds,\n",
    "  epochs=20,\n",
    ")"
   ]
  },
  {
   "cell_type": "code",
   "execution_count": 15,
   "id": "0bc3f41c",
   "metadata": {},
   "outputs": [],
   "source": [
    "model_1.save('ai_dif_app.h5')"
   ]
  },
  {
   "cell_type": "code",
   "execution_count": 19,
   "id": "7dc17cd7",
   "metadata": {},
   "outputs": [
    {
     "data": {
      "text/plain": [
       "<matplotlib.legend.Legend at 0x2df849773a0>"
      ]
     },
     "execution_count": 19,
     "metadata": {},
     "output_type": "execute_result"
    },
    {
     "data": {
      "image/png": "[encoded data removed]",
      "text/plain": [
       "<Figure size 432x288 with 1 Axes>"
      ]
     },
     "metadata": {
      "needs_background": "light"
     },
     "output_type": "display_data"
    }
   ],
   "source": [
    "plt.plot(history_1.history['loss'], label= 'loss')\n",
    "plt.plot(history_1.history['val_loss'], label= 'val_loss')\n",
    "plt.legend()"
   ]
  },
  {
   "cell_type": "code",
   "execution_count": 21,
   "id": "dbdd1c91",
   "metadata": {},
   "outputs": [
    {
     "data": {
      "text/plain": [
       "<matplotlib.legend.Legend at 0x2df84a59e50>"
      ]
     },
     "execution_count": 21,
     "metadata": {},
     "output_type": "execute_result"
    },
    {
     "data": {
      "image/png": "[encoded data removed]",
      "text/plain": [
       "<Figure size 432x288 with 1 Axes>"
      ]
     },
     "metadata": {
      "needs_background": "light"
     },
     "output_type": "display_data"
    }
   ],
   "source": [
    "plt.plot(history_1.history['accuracy'], label= 'accuracy')\n",
    "plt.plot(history_1.history['val_accuracy'], label= 'val_accuracy')\n",
    "plt.legend()"
   ]
  }
 ],
 "metadata": {
  "kernelspec": {
   "display_name": "Python 3 (ipykernel)",
   "language": "python",
   "name": "python3"
  },
  "language_info": {
   "codemirror_mode": {
    "name": "ipython",
    "version": 3
   },
   "file_extension": ".py",
   "mimetype": "text/x-python",
   "name": "python",
   "nbconvert_exporter": "python",
   "pygments_lexer": "ipython3",
   "version": "3.9.12"
  }
 },
 "nbformat": 4,
 "nbformat_minor": 5
}
