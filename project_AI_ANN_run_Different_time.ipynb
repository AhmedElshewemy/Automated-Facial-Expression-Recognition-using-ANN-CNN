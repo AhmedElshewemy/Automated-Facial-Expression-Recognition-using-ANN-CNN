{
 "cells": [
  {
   "cell_type": "code",
   "execution_count": 1,
   "id": "1c16438b",
   "metadata": {},
   "outputs": [],
   "source": [
    "import numpy as np\n",
    "import os\n",
    "import PIL\n",
    "import PIL.Image\n",
    "import tensorflow as tf\n",
    "import pathlib\n",
    "import matplotlib.pyplot as plt\n",
    "import cv2\n",
    "import imghdr"
   ]
  },
  {
   "cell_type": "code",
   "execution_count": 2,
   "id": "24fb1225",
   "metadata": {},
   "outputs": [],
   "source": [
    "batch_size = 64\n",
    "img_height = 48\n",
    "img_width = 48\n"
   ]
  },
  {
   "cell_type": "code",
   "execution_count": 3,
   "id": "4eccb832",
   "metadata": {},
   "outputs": [
    {
     "name": "stdout",
     "output_type": "stream",
     "text": [
      "Found 28709 files belonging to 7 classes.\n"
     ]
    }
   ],
   "source": [
    "train_ds = tf.keras.utils.image_dataset_from_directory(\n",
    " \"D:/facial_expression/train\",\n",
    "  labels = \"inferred\",\n",
    "  seed=123,\n",
    "  image_size=(img_height, img_width),\n",
    "  batch_size=batch_size,\n",
    "  color_mode='grayscale',\n",
    "  label_mode=\"categorical\")"
   ]
  },
  {
   "cell_type": "code",
   "execution_count": 4,
   "id": "6f1ae7d7",
   "metadata": {},
   "outputs": [
    {
     "name": "stdout",
     "output_type": "stream",
     "text": [
      "Found 7178 files belonging to 7 classes.\n"
     ]
    }
   ],
   "source": [
    "val_ds = tf.keras.utils.image_dataset_from_directory(\n",
    " \"D:/facial_expression/test\",\n",
    "  labels = 'inferred',\n",
    "  label_mode = \"categorical\",\n",
    "  seed=123,\n",
    "  image_size=(48, 48),\n",
    "  batch_size=batch_size,\n",
    "  color_mode='grayscale')"
   ]
  },
  {
   "cell_type": "code",
   "execution_count": 5,
   "id": "b690eb19",
   "metadata": {},
   "outputs": [
    {
     "data": {
      "text/plain": [
       "['angry', 'disgust', 'fear', 'happy', 'neutral', 'sad', 'surprise']"
      ]
     },
     "execution_count": 5,
     "metadata": {},
     "output_type": "execute_result"
    }
   ],
   "source": [
    "class_names = train_ds.class_names\n",
    "class_names\n"
   ]
  },
  {
   "cell_type": "code",
   "execution_count": 6,
   "id": "2c7bad28",
   "metadata": {},
   "outputs": [
    {
     "name": "stdout",
     "output_type": "stream",
     "text": [
      "(64, 48, 48, 1)\n",
      "(64, 7)\n"
     ]
    }
   ],
   "source": [
    "for image_batch, labels_batch in train_ds:\n",
    "    print(image_batch.shape)\n",
    "    print(labels_batch.shape)\n",
    "    break"
   ]
  },
  {
   "cell_type": "code",
   "execution_count": 7,
   "id": "ec4be31d",
   "metadata": {},
   "outputs": [
    {
     "name": "stdout",
     "output_type": "stream",
     "text": [
      "WARNING:tensorflow:From D:\\ANCONDAPYTHON\\lib\\site-packages\\tensorflow\\python\\autograph\\pyct\\static_analysis\\liveness.py:83: Analyzer.lamba_check (from tensorflow.python.autograph.pyct.static_analysis.liveness) is deprecated and will be removed after 2023-09-23.\n",
      "Instructions for updating:\n",
      "Lambda fuctions will be no more assumed to be used in the statement where they are used, or at least in the same block. https://github.com/tensorflow/tensorflow/issues/56089\n"
     ]
    }
   ],
   "source": [
    "train_ds = train_ds.map(lambda x,y: (x/255, y))\n",
    "val_ds = val_ds.map(lambda x,y: (x/255, y))"
   ]
  },
  {
   "cell_type": "code",
   "execution_count": 8,
   "id": "d208edee",
   "metadata": {},
   "outputs": [
    {
     "data": {
      "text/plain": [
       "0.0"
      ]
     },
     "execution_count": 8,
     "metadata": {},
     "output_type": "execute_result"
    }
   ],
   "source": [
    "train_ds.as_numpy_iterator().next()[0].min()"
   ]
  },
  {
   "cell_type": "code",
   "execution_count": 9,
   "id": "8dba3cfd",
   "metadata": {},
   "outputs": [
    {
     "data": {
      "text/plain": [
       "1.0"
      ]
     },
     "execution_count": 9,
     "metadata": {},
     "output_type": "execute_result"
    }
   ],
   "source": [
    "val_ds.as_numpy_iterator().next()[0].max()"
   ]
  },
  {
   "cell_type": "code",
   "execution_count": 10,
   "id": "62c80c3d",
   "metadata": {},
   "outputs": [],
   "source": [
    "AUTOTUNE = tf.data.AUTOTUNE\n",
    "\n",
    "train_ds = train_ds.cache().prefetch(buffer_size=AUTOTUNE)\n",
    "val_ds = val_ds.cache().prefetch(buffer_size=AUTOTUNE)"
   ]
  },
  {
   "cell_type": "code",
   "execution_count": 11,
   "id": "c81a7a2c",
   "metadata": {},
   "outputs": [],
   "source": [
    "model = tf.keras.models.Sequential([\n",
    "    tf.keras.layers.Flatten(input_shape=(48,48,)),\n",
    "    tf.keras.layers.Dense(1024, activation= 'relu'),\n",
    "    tf.keras.layers.Dense(512, activation= 'relu'),\n",
    "    tf.keras.layers.Dense(256, activation= 'relu'),\n",
    "    tf.keras.layers.Dense(128, activation= 'relu'),\n",
    "     tf.keras.layers.Dense(64, activation= 'relu'),\n",
    "     tf.keras.layers.Dense(64, activation= 'relu'),\n",
    "     tf.keras.layers.Dense(32, activation= 'relu'),\n",
    "    \n",
    "    tf.keras.layers.Dropout(0.2),\n",
    "    tf.keras.layers.Dense(7, activation='softmax')\n",
    "])"
   ]
  },
  {
   "cell_type": "code",
   "execution_count": 12,
   "id": "02ca7504",
   "metadata": {
    "scrolled": true
   },
   "outputs": [],
   "source": [
    "from tensorflow.keras import optimizers\n",
    "opt=optimizers.Adam(0.001)"
   ]
  },
  {
   "cell_type": "code",
   "execution_count": 15,
   "id": "74fc4991",
   "metadata": {},
   "outputs": [],
   "source": [
    "model.compile(optimizer=opt,\n",
    "  loss=\"categorical_crossentropy\",\n",
    "    metrics=['accuracy'])"
   ]
  },
  {
   "cell_type": "code",
   "execution_count": 14,
   "id": "1f5c4142",
   "metadata": {},
   "outputs": [],
   "source": [
    "model.compile(\"adam\",\n",
    "  loss=\"categorical_crossentropy\",\n",
    "    metrics=['accuracy'])"
   ]
  },
  {
   "cell_type": "code",
   "execution_count": 16,
   "id": "d88ecd24",
   "metadata": {},
   "outputs": [
    {
     "name": "stdout",
     "output_type": "stream",
     "text": [
      "Model: \"sequential\"\n",
      "_________________________________________________________________\n",
      " Layer (type)                Output Shape              Param #   \n",
      "=================================================================\n",
      " flatten (Flatten)           (None, 2304)              0         \n",
      "                                                                 \n",
      " dense (Dense)               (None, 1024)              2360320   \n",
      "                                                                 \n",
      " dense_1 (Dense)             (None, 512)               524800    \n",
      "                                                                 \n",
      " dense_2 (Dense)             (None, 256)               131328    \n",
      "                                                                 \n",
      " dense_3 (Dense)             (None, 128)               32896     \n",
      "                                                                 \n",
      " dense_4 (Dense)             (None, 64)                8256      \n",
      "                                                                 \n",
      " dense_5 (Dense)             (None, 64)                4160      \n",
      "                                                                 \n",
      " dense_6 (Dense)             (None, 32)                2080      \n",
      "                                                                 \n",
      " dropout (Dropout)           (None, 32)                0         \n",
      "                                                                 \n",
      " dense_7 (Dense)             (None, 7)                 231       \n",
      "                                                                 \n",
      "=================================================================\n",
      "Total params: 3,064,071\n",
      "Trainable params: 3,064,071\n",
      "Non-trainable params: 0\n",
      "_________________________________________________________________\n"
     ]
    }
   ],
   "source": [
    "model.summary()\n"
   ]
  },
  {
   "cell_type": "code",
   "execution_count": 17,
   "id": "7332e893",
   "metadata": {},
   "outputs": [],
   "source": [
    "from keras.callbacks import ModelCheckpoint, EarlyStopping\n",
    "\n",
    "\n",
    "es = EarlyStopping(monitor='val_accuracy', min_delta= 0.01 , patience= 5, verbose= 1, mode='auto')\n",
    "\n",
    "# model check point\n",
    "mc = ModelCheckpoint(filepath=\"best_model.h5\", monitor= 'val_accuracy', verbose= 1, save_best_only= True, mode = 'auto')\n",
    "\n",
    "# puting call back in a list \n",
    "call_back = [es, mc]"
   ]
  },
  {
   "cell_type": "code",
   "execution_count": 18,
   "id": "25bd4d98",
   "metadata": {},
   "outputs": [
    {
     "name": "stdout",
     "output_type": "stream",
     "text": [
      "Epoch 1/100\n",
      "449/449 [==============================] - 34s 69ms/step - loss: 1.8250 - accuracy: 0.2383 - val_loss: 1.7615 - val_accuracy: 0.2842\n",
      "Epoch 2/100\n",
      "449/449 [==============================] - 17s 37ms/step - loss: 1.7494 - accuracy: 0.2897 - val_loss: 1.7260 - val_accuracy: 0.3016\n",
      "Epoch 3/100\n",
      "449/449 [==============================] - 16s 36ms/step - loss: 1.7140 - accuracy: 0.3157 - val_loss: 1.6767 - val_accuracy: 0.3376\n",
      "Epoch 4/100\n",
      "449/449 [==============================] - 16s 36ms/step - loss: 1.6916 - accuracy: 0.3321 - val_loss: 1.6617 - val_accuracy: 0.3526\n",
      "Epoch 5/100\n",
      "449/449 [==============================] - 16s 36ms/step - loss: 1.6771 - accuracy: 0.3393 - val_loss: 1.6599 - val_accuracy: 0.3594\n",
      "Epoch 6/100\n",
      "449/449 [==============================] - 16s 36ms/step - loss: 1.6587 - accuracy: 0.3509 - val_loss: 1.6389 - val_accuracy: 0.3650\n",
      "Epoch 7/100\n",
      "449/449 [==============================] - 16s 36ms/step - loss: 1.6442 - accuracy: 0.3587 - val_loss: 1.6170 - val_accuracy: 0.3731\n",
      "Epoch 8/100\n",
      "449/449 [==============================] - 16s 36ms/step - loss: 1.6362 - accuracy: 0.3619 - val_loss: 1.6522 - val_accuracy: 0.3625\n",
      "Epoch 9/100\n",
      "449/449 [==============================] - 16s 35ms/step - loss: 1.6279 - accuracy: 0.3643 - val_loss: 1.6128 - val_accuracy: 0.3761\n",
      "Epoch 10/100\n",
      "449/449 [==============================] - 16s 36ms/step - loss: 1.6159 - accuracy: 0.3711 - val_loss: 1.6034 - val_accuracy: 0.3799\n",
      "Epoch 11/100\n",
      "449/449 [==============================] - 16s 36ms/step - loss: 1.6095 - accuracy: 0.3719 - val_loss: 1.5864 - val_accuracy: 0.3858\n",
      "Epoch 12/100\n",
      "449/449 [==============================] - 16s 36ms/step - loss: 1.6032 - accuracy: 0.3738 - val_loss: 1.6055 - val_accuracy: 0.3781\n",
      "Epoch 13/100\n",
      "449/449 [==============================] - 16s 35ms/step - loss: 1.5948 - accuracy: 0.3766 - val_loss: 1.5917 - val_accuracy: 0.3812\n",
      "Epoch 14/100\n",
      "449/449 [==============================] - 15s 34ms/step - loss: 1.5821 - accuracy: 0.3827 - val_loss: 1.5886 - val_accuracy: 0.3849\n",
      "Epoch 15/100\n",
      "449/449 [==============================] - 16s 36ms/step - loss: 1.5772 - accuracy: 0.3843 - val_loss: 1.6011 - val_accuracy: 0.3791\n",
      "Epoch 16/100\n",
      "449/449 [==============================] - 16s 36ms/step - loss: 1.5672 - accuracy: 0.3897 - val_loss: 1.5996 - val_accuracy: 0.3837\n",
      "Epoch 17/100\n",
      "449/449 [==============================] - 16s 37ms/step - loss: 1.5612 - accuracy: 0.3906 - val_loss: 1.5981 - val_accuracy: 0.3872\n",
      "Epoch 18/100\n",
      "449/449 [==============================] - 16s 36ms/step - loss: 1.5520 - accuracy: 0.3984 - val_loss: 1.5932 - val_accuracy: 0.3858\n",
      "Epoch 19/100\n",
      "449/449 [==============================] - 16s 36ms/step - loss: 1.5474 - accuracy: 0.4008 - val_loss: 1.6089 - val_accuracy: 0.3833\n",
      "Epoch 20/100\n",
      "449/449 [==============================] - 16s 36ms/step - loss: 1.5404 - accuracy: 0.4033 - val_loss: 1.6053 - val_accuracy: 0.3863\n",
      "Epoch 21/100\n",
      "449/449 [==============================] - 16s 36ms/step - loss: 1.5337 - accuracy: 0.4040 - val_loss: 1.5981 - val_accuracy: 0.3845\n",
      "Epoch 22/100\n",
      "449/449 [==============================] - 16s 36ms/step - loss: 1.5191 - accuracy: 0.4111 - val_loss: 1.5968 - val_accuracy: 0.3801\n",
      "Epoch 23/100\n",
      "449/449 [==============================] - 16s 35ms/step - loss: 1.5123 - accuracy: 0.4135 - val_loss: 1.6050 - val_accuracy: 0.3813\n",
      "Epoch 24/100\n",
      "449/449 [==============================] - 16s 35ms/step - loss: 1.5123 - accuracy: 0.4120 - val_loss: 1.5967 - val_accuracy: 0.3827\n",
      "Epoch 25/100\n",
      "449/449 [==============================] - 16s 36ms/step - loss: 1.5006 - accuracy: 0.4198 - val_loss: 1.6180 - val_accuracy: 0.3807\n",
      "Epoch 26/100\n",
      "449/449 [==============================] - 16s 35ms/step - loss: 1.4955 - accuracy: 0.4203 - val_loss: 1.6165 - val_accuracy: 0.3789\n",
      "Epoch 27/100\n",
      "449/449 [==============================] - 16s 35ms/step - loss: 1.4912 - accuracy: 0.4220 - val_loss: 1.6247 - val_accuracy: 0.3841\n",
      "Epoch 28/100\n",
      "449/449 [==============================] - 16s 36ms/step - loss: 1.4734 - accuracy: 0.4307 - val_loss: 1.6470 - val_accuracy: 0.3824\n",
      "Epoch 29/100\n",
      "449/449 [==============================] - 16s 35ms/step - loss: 1.4642 - accuracy: 0.4380 - val_loss: 1.6466 - val_accuracy: 0.3757\n",
      "Epoch 30/100\n",
      "449/449 [==============================] - 16s 35ms/step - loss: 1.4654 - accuracy: 0.4343 - val_loss: 1.6280 - val_accuracy: 0.3739\n",
      "Epoch 31/100\n",
      "449/449 [==============================] - 16s 35ms/step - loss: 1.4514 - accuracy: 0.4433 - val_loss: 1.6495 - val_accuracy: 0.3760\n",
      "Epoch 32/100\n",
      "449/449 [==============================] - 16s 35ms/step - loss: 1.4392 - accuracy: 0.4505 - val_loss: 1.6698 - val_accuracy: 0.3784\n",
      "Epoch 33/100\n",
      "449/449 [==============================] - 16s 35ms/step - loss: 1.4390 - accuracy: 0.4459 - val_loss: 1.6581 - val_accuracy: 0.3735\n",
      "Epoch 34/100\n",
      "449/449 [==============================] - 16s 35ms/step - loss: 1.4313 - accuracy: 0.4511 - val_loss: 1.6914 - val_accuracy: 0.3805\n",
      "Epoch 35/100\n",
      "449/449 [==============================] - 16s 35ms/step - loss: 1.4243 - accuracy: 0.4541 - val_loss: 1.6957 - val_accuracy: 0.3830\n",
      "Epoch 36/100\n",
      "449/449 [==============================] - 16s 37ms/step - loss: 1.4272 - accuracy: 0.4534 - val_loss: 1.6592 - val_accuracy: 0.3796\n",
      "Epoch 37/100\n",
      "449/449 [==============================] - 17s 37ms/step - loss: 1.4138 - accuracy: 0.4582 - val_loss: 1.7481 - val_accuracy: 0.3665\n",
      "Epoch 38/100\n",
      "449/449 [==============================] - 17s 37ms/step - loss: 1.4013 - accuracy: 0.4618 - val_loss: 1.7068 - val_accuracy: 0.3661\n",
      "Epoch 39/100\n",
      "449/449 [==============================] - 16s 35ms/step - loss: 1.4094 - accuracy: 0.4593 - val_loss: 1.7008 - val_accuracy: 0.3696\n",
      "Epoch 40/100\n",
      "449/449 [==============================] - 16s 36ms/step - loss: 1.4090 - accuracy: 0.4594 - val_loss: 1.6978 - val_accuracy: 0.3683\n",
      "Epoch 41/100\n",
      "449/449 [==============================] - 16s 36ms/step - loss: 1.3853 - accuracy: 0.4714 - val_loss: 1.6930 - val_accuracy: 0.3665\n",
      "Epoch 42/100\n",
      "449/449 [==============================] - 16s 35ms/step - loss: 1.3848 - accuracy: 0.4694 - val_loss: 1.7426 - val_accuracy: 0.3699\n",
      "Epoch 43/100\n",
      "449/449 [==============================] - 16s 36ms/step - loss: 1.3947 - accuracy: 0.4661 - val_loss: 1.7250 - val_accuracy: 0.3752\n",
      "Epoch 44/100\n",
      "449/449 [==============================] - 16s 36ms/step - loss: 1.3872 - accuracy: 0.4696 - val_loss: 1.7182 - val_accuracy: 0.3780\n",
      "Epoch 45/100\n",
      "449/449 [==============================] - 16s 36ms/step - loss: 1.3671 - accuracy: 0.4777 - val_loss: 1.7117 - val_accuracy: 0.3782\n",
      "Epoch 46/100\n",
      "449/449 [==============================] - 16s 36ms/step - loss: 1.3566 - accuracy: 0.4785 - val_loss: 1.7524 - val_accuracy: 0.3795\n",
      "Epoch 47/100\n",
      "449/449 [==============================] - 16s 36ms/step - loss: 1.3552 - accuracy: 0.4835 - val_loss: 1.7385 - val_accuracy: 0.3838\n",
      "Epoch 48/100\n",
      "449/449 [==============================] - 16s 37ms/step - loss: 1.3462 - accuracy: 0.4834 - val_loss: 1.8167 - val_accuracy: 0.3799\n",
      "Epoch 49/100\n",
      "449/449 [==============================] - 18s 40ms/step - loss: 1.3531 - accuracy: 0.4836 - val_loss: 1.8180 - val_accuracy: 0.3710\n",
      "Epoch 50/100\n",
      "449/449 [==============================] - 17s 39ms/step - loss: 1.3332 - accuracy: 0.4926 - val_loss: 1.9231 - val_accuracy: 0.3656\n",
      "Epoch 51/100\n",
      "449/449 [==============================] - 12s 27ms/step - loss: 1.3185 - accuracy: 0.5003 - val_loss: 1.8004 - val_accuracy: 0.3774\n",
      "Epoch 52/100\n",
      "449/449 [==============================] - 12s 26ms/step - loss: 1.3383 - accuracy: 0.4905 - val_loss: 1.8020 - val_accuracy: 0.3766\n",
      "Epoch 53/100\n",
      "449/449 [==============================] - 11s 26ms/step - loss: 1.3385 - accuracy: 0.4875 - val_loss: 1.7254 - val_accuracy: 0.3830\n",
      "Epoch 54/100\n",
      "449/449 [==============================] - 12s 26ms/step - loss: 1.3201 - accuracy: 0.4973 - val_loss: 1.7732 - val_accuracy: 0.3796\n",
      "Epoch 55/100\n",
      "449/449 [==============================] - 12s 26ms/step - loss: 1.3209 - accuracy: 0.4998 - val_loss: 1.7538 - val_accuracy: 0.3809\n",
      "Epoch 56/100\n",
      "449/449 [==============================] - 12s 26ms/step - loss: 1.3195 - accuracy: 0.4986 - val_loss: 1.7850 - val_accuracy: 0.3752\n",
      "Epoch 57/100\n",
      "449/449 [==============================] - 11s 25ms/step - loss: 1.2898 - accuracy: 0.5112 - val_loss: 1.8207 - val_accuracy: 0.3759\n",
      "Epoch 58/100\n",
      "449/449 [==============================] - 11s 26ms/step - loss: 1.3007 - accuracy: 0.5088 - val_loss: 1.8507 - val_accuracy: 0.3785\n",
      "Epoch 59/100\n",
      "449/449 [==============================] - 12s 26ms/step - loss: 1.2870 - accuracy: 0.5133 - val_loss: 1.8347 - val_accuracy: 0.3741\n",
      "Epoch 60/100\n",
      "449/449 [==============================] - 11s 25ms/step - loss: 1.2871 - accuracy: 0.5150 - val_loss: 1.8805 - val_accuracy: 0.3782\n",
      "Epoch 61/100\n",
      "449/449 [==============================] - 12s 27ms/step - loss: 1.2706 - accuracy: 0.5206 - val_loss: 1.7704 - val_accuracy: 0.3837\n",
      "Epoch 62/100\n",
      "449/449 [==============================] - 12s 27ms/step - loss: 1.2743 - accuracy: 0.5199 - val_loss: 1.8153 - val_accuracy: 0.3738\n",
      "Epoch 63/100\n",
      "449/449 [==============================] - 11s 26ms/step - loss: 1.2670 - accuracy: 0.5250 - val_loss: 1.8428 - val_accuracy: 0.3651\n",
      "Epoch 64/100\n",
      "449/449 [==============================] - 12s 26ms/step - loss: 1.2475 - accuracy: 0.5305 - val_loss: 1.8634 - val_accuracy: 0.3590\n",
      "Epoch 65/100\n",
      "449/449 [==============================] - 12s 26ms/step - loss: 1.2568 - accuracy: 0.5259 - val_loss: 1.8766 - val_accuracy: 0.3661\n",
      "Epoch 66/100\n",
      "449/449 [==============================] - 12s 26ms/step - loss: 1.2126 - accuracy: 0.5474 - val_loss: 1.8298 - val_accuracy: 0.3697\n",
      "Epoch 67/100\n",
      "449/449 [==============================] - 12s 26ms/step - loss: 1.2128 - accuracy: 0.5434 - val_loss: 1.8501 - val_accuracy: 0.3677\n",
      "Epoch 68/100\n",
      "449/449 [==============================] - 11s 26ms/step - loss: 1.2232 - accuracy: 0.5405 - val_loss: 1.9160 - val_accuracy: 0.3656\n",
      "Epoch 69/100\n",
      "449/449 [==============================] - 12s 26ms/step - loss: 1.1998 - accuracy: 0.5506 - val_loss: 1.9310 - val_accuracy: 0.3681\n",
      "Epoch 70/100\n",
      "449/449 [==============================] - 11s 26ms/step - loss: 1.2027 - accuracy: 0.5516 - val_loss: 2.0145 - val_accuracy: 0.3639\n",
      "Epoch 71/100\n",
      "449/449 [==============================] - 13s 28ms/step - loss: 1.1777 - accuracy: 0.5600 - val_loss: 2.0605 - val_accuracy: 0.3539\n",
      "Epoch 72/100\n",
      "449/449 [==============================] - 12s 27ms/step - loss: 1.2104 - accuracy: 0.5476 - val_loss: 2.0140 - val_accuracy: 0.3497\n",
      "Epoch 73/100\n",
      "449/449 [==============================] - 13s 29ms/step - loss: 1.1875 - accuracy: 0.5551 - val_loss: 2.1601 - val_accuracy: 0.3605\n",
      "Epoch 74/100\n",
      "449/449 [==============================] - 13s 28ms/step - loss: 1.1542 - accuracy: 0.5724 - val_loss: 2.2995 - val_accuracy: 0.3541\n",
      "Epoch 75/100\n",
      "449/449 [==============================] - 12s 28ms/step - loss: 1.1567 - accuracy: 0.5703 - val_loss: 2.2275 - val_accuracy: 0.3546\n",
      "Epoch 76/100\n",
      "449/449 [==============================] - 12s 27ms/step - loss: 1.1496 - accuracy: 0.5735 - val_loss: 2.1148 - val_accuracy: 0.3514\n",
      "Epoch 77/100\n",
      "449/449 [==============================] - 12s 26ms/step - loss: 1.1437 - accuracy: 0.5750 - val_loss: 2.2400 - val_accuracy: 0.3564\n",
      "Epoch 78/100\n",
      "449/449 [==============================] - 12s 26ms/step - loss: 1.1384 - accuracy: 0.5778 - val_loss: 2.2807 - val_accuracy: 0.3351\n",
      "Epoch 79/100\n",
      "449/449 [==============================] - 12s 27ms/step - loss: 1.1319 - accuracy: 0.5797 - val_loss: 2.3391 - val_accuracy: 0.3504\n",
      "Epoch 80/100\n",
      "449/449 [==============================] - 12s 26ms/step - loss: 1.1489 - accuracy: 0.5752 - val_loss: 2.3557 - val_accuracy: 0.3495\n",
      "Epoch 81/100\n",
      "449/449 [==============================] - 12s 26ms/step - loss: 1.1101 - accuracy: 0.5893 - val_loss: 2.4126 - val_accuracy: 0.3546\n",
      "Epoch 82/100\n",
      "449/449 [==============================] - 12s 26ms/step - loss: 1.1149 - accuracy: 0.5847 - val_loss: 2.4387 - val_accuracy: 0.3484\n",
      "Epoch 83/100\n",
      "449/449 [==============================] - 12s 27ms/step - loss: 1.1101 - accuracy: 0.5897 - val_loss: 2.4884 - val_accuracy: 0.3440\n",
      "Epoch 84/100\n",
      "449/449 [==============================] - 12s 27ms/step - loss: 1.1284 - accuracy: 0.5840 - val_loss: 2.4060 - val_accuracy: 0.3551\n",
      "Epoch 85/100\n",
      "449/449 [==============================] - 12s 26ms/step - loss: 1.1190 - accuracy: 0.5839 - val_loss: 2.2762 - val_accuracy: 0.3598\n",
      "Epoch 86/100\n",
      "449/449 [==============================] - 12s 27ms/step - loss: 1.1057 - accuracy: 0.5931 - val_loss: 2.2136 - val_accuracy: 0.3661\n",
      "Epoch 87/100\n",
      "449/449 [==============================] - 12s 26ms/step - loss: 1.0836 - accuracy: 0.5970 - val_loss: 2.4944 - val_accuracy: 0.3504\n",
      "Epoch 88/100\n",
      "449/449 [==============================] - 12s 27ms/step - loss: 1.0790 - accuracy: 0.6015 - val_loss: 2.4418 - val_accuracy: 0.3573\n",
      "Epoch 89/100\n",
      "449/449 [==============================] - 12s 27ms/step - loss: 1.0702 - accuracy: 0.6061 - val_loss: 2.4116 - val_accuracy: 0.3619\n",
      "Epoch 90/100\n",
      "449/449 [==============================] - 12s 27ms/step - loss: 1.0478 - accuracy: 0.6094 - val_loss: 2.4397 - val_accuracy: 0.3644\n",
      "Epoch 91/100\n",
      "449/449 [==============================] - 12s 26ms/step - loss: 1.0500 - accuracy: 0.6138 - val_loss: 2.4049 - val_accuracy: 0.3657\n",
      "Epoch 92/100\n",
      "449/449 [==============================] - 13s 28ms/step - loss: 1.0478 - accuracy: 0.6152 - val_loss: 2.4640 - val_accuracy: 0.3526\n",
      "Epoch 93/100\n",
      "449/449 [==============================] - 12s 27ms/step - loss: 1.0693 - accuracy: 0.6040 - val_loss: 2.1875 - val_accuracy: 0.3658\n",
      "Epoch 94/100\n",
      "449/449 [==============================] - 12s 26ms/step - loss: 1.0451 - accuracy: 0.6169 - val_loss: 2.2573 - val_accuracy: 0.3682\n",
      "Epoch 95/100\n",
      "449/449 [==============================] - 12s 27ms/step - loss: 1.0588 - accuracy: 0.6069 - val_loss: 2.2120 - val_accuracy: 0.3656\n",
      "Epoch 96/100\n",
      "449/449 [==============================] - 12s 26ms/step - loss: 1.0270 - accuracy: 0.6223 - val_loss: 2.3360 - val_accuracy: 0.3562\n",
      "Epoch 97/100\n",
      "449/449 [==============================] - 12s 26ms/step - loss: 1.0286 - accuracy: 0.6237 - val_loss: 2.1757 - val_accuracy: 0.3682\n",
      "Epoch 98/100\n",
      "449/449 [==============================] - 12s 27ms/step - loss: 1.0436 - accuracy: 0.6128 - val_loss: 2.2753 - val_accuracy: 0.3643\n",
      "Epoch 99/100\n",
      "449/449 [==============================] - 12s 27ms/step - loss: 1.0111 - accuracy: 0.6290 - val_loss: 2.2034 - val_accuracy: 0.3670\n",
      "Epoch 100/100\n",
      "449/449 [==============================] - 13s 28ms/step - loss: 1.0105 - accuracy: 0.6289 - val_loss: 2.2946 - val_accuracy: 0.3592\n"
     ]
    }
   ],
   "source": [
    "history_1 = model.fit(\n",
    "  train_ds,\n",
    "  validation_data=val_ds,\n",
    "  epochs=100,\n",
    ")"
   ]
  },
  {
   "cell_type": "code",
   "execution_count": 19,
   "id": "bf18294b",
   "metadata": {},
   "outputs": [],
   "source": [
    "model.save('ai.h5')"
   ]
  },
  {
   "cell_type": "code",
   "execution_count": 20,
   "id": "c18ac0d9",
   "metadata": {},
   "outputs": [
    {
     "data": {
      "text/plain": [
       "<matplotlib.legend.Legend at 0x1e7c0bf5850>"
      ]
     },
     "execution_count": 20,
     "metadata": {},
     "output_type": "execute_result"
    },
    {
     "data": {
      "image/png": "[encoded data removed]",
      "text/plain": [
       "<Figure size 432x288 with 1 Axes>"
      ]
     },
     "metadata": {
      "needs_background": "light"
     },
     "output_type": "display_data"
    }
   ],
   "source": [
    "plt.plot(history_1.history['loss'], label= 'loss')\n",
    "plt.plot(history_1.history['val_loss'], label= 'val_loss')\n",
    "plt.legend()"
   ]
  },
  {
   "cell_type": "code",
   "execution_count": 21,
   "id": "a0a5682f",
   "metadata": {},
   "outputs": [
    {
     "data": {
      "text/plain": [
       "<matplotlib.legend.Legend at 0x1e7c2342190>"
      ]
     },
     "execution_count": 21,
     "metadata": {},
     "output_type": "execute_result"
    },
    {
     "data": {
      "image/png": "[encoded data removed]",
      "text/plain": [
       "<Figure size 432x288 with 1 Axes>"
      ]
     },
     "metadata": {
      "needs_background": "light"
     },
     "output_type": "display_data"
    }
   ],
   "source": [
    "plt.plot(history_1.history['accuracy'], label= 'accuracy')\n",
    "plt.plot(history_1.history['val_accuracy'], label= 'val_accuracy')\n",
    "plt.legend()"
   ]
  },
  {
   "cell_type": "code",
   "execution_count": null,
   "id": "bde5f904",
   "metadata": {},
   "outputs": [],
   "source": []
  },
  {
   "cell_type": "code",
   "execution_count": 22,
   "id": "6ab7b71e",
   "metadata": {},
   "outputs": [
    {
     "name": "stdout",
     "output_type": "stream",
     "text": [
      "(48, 48, 1)\n"
     ]
    },
    {
     "data": {
      "image/png": "[encoded data removed]",
      "text/plain": [
       "<Figure size 432x288 with 1 Axes>"
      ]
     },
     "metadata": {
      "needs_background": "light"
     },
     "output_type": "display_data"
    }
   ],
   "source": [
    "from tensorflow.keras.preprocessing import image\n",
    "img_path=\"D:/facial_expression/test/sad/PrivateTest_2326190.jpg\"\n",
    "test_image=image.load_img(img_path,target_size=(48,48),color_mode='grayscale')\n",
    "test_image=image.img_to_array(test_image)\n",
    "print(test_image.shape)\n",
    "plt.imshow(test_image)\n",
    "plt.show()"
   ]
  },
  {
   "cell_type": "code",
   "execution_count": 23,
   "id": "3f776534",
   "metadata": {},
   "outputs": [
    {
     "name": "stdout",
     "output_type": "stream",
     "text": [
      "1/1 [==============================] - 0s 239ms/step\n",
      "[0. 0. 1. 0. 0. 0. 0.]\n",
      "The person facial emotion is: Fear\n"
     ]
    }
   ],
   "source": [
    "test_image=test_image.reshape(1,48,48,1)\n",
    "classes=['Angry','Disgust','Fear','Happy','Neutral','Sad','Surprise']\n",
    "result=model.predict(test_image)\n",
    "print(result[0])\n",
    "y_pred=np.argmax(result[0])\n",
    "print('The person facial emotion is:',classes[y_pred])"
   ]
  },
  {
   "cell_type": "code",
   "execution_count": 24,
   "id": "e9f97a2f",
   "metadata": {},
   "outputs": [
    {
     "name": "stdout",
     "output_type": "stream",
     "text": [
      "1/1 [==============================] - 0s 16ms/step\n",
      " the image is of Happy\n"
     ]
    },
    {
     "data": {
      "image/png": "[encoded data removed]",
      "text/plain": [
       "<Figure size 432x288 with 1 Axes>"
      ]
     },
     "metadata": {
      "needs_background": "light"
     },
     "output_type": "display_data"
    }
   ],
   "source": [
    "#\"D:\\facial_expression\\test\\happy\\PrivateTest_95094.jpg\"\n",
    "path = \"D:/facial_expression/test/happy/PrivateTest_95094.jpg\"\n",
    "img = image.load_img(path, target_size=(48,48) ,color_mode='grayscale')\n",
    "\n",
    "i = image.img_to_array(img)/255\n",
    "input_arr = np.array([i])\n",
    "input_arr.shape\n",
    "\n",
    "pred = np.argmax(model.predict(input_arr))\n",
    "\n",
    "print(f\" the image is of {classes[pred]}\")\n",
    "\n",
    "# to display the image  \n",
    "plt.imshow(input_arr[0])\n",
    "plt.title(\"input image\")\n",
    "plt.show()\n"
   ]
  }
 ],
 "metadata": {
  "kernelspec": {
   "display_name": "Python 3 (ipykernel)",
   "language": "python",
   "name": "python3"
  },
  "language_info": {
   "codemirror_mode": {
    "name": "ipython",
    "version": 3
   },
   "file_extension": ".py",
   "mimetype": "text/x-python",
   "name": "python",
   "nbconvert_exporter": "python",
   "pygments_lexer": "ipython3",
   "version": "3.9.12"
  }
 },
 "nbformat": 4,
 "nbformat_minor": 5
}
